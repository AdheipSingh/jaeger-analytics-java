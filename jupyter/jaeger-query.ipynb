{
 "cells": [
  {
   "cell_type": "markdown",
   "metadata": {},
   "source": [
    "# Jaeger-query with trace DSL"
   ]
  },
  {
   "cell_type": "code",
   "execution_count": 4,
   "metadata": {},
   "outputs": [],
   "source": [
    "%%loadFromPOM\n",
    "<dependency>\n",
    "    <groupId>com.fasterxml.jackson.core</groupId>\n",
    "    <artifactId>jackson-databind</artifactId>\n",
    "    <version>2.6.7</version>\n",
    "</dependency>\n",
    "<dependency>\n",
    "    <groupId>com.fasterxml.jackson.core</groupId>\n",
    "    <artifactId>jackson-annotations</artifactId>\n",
    "    <version>2.6.7</version>\n",
    "</dependency>\n",
    "<dependency>\n",
    "    <groupId>io.prometheus</groupId>\n",
    "    <artifactId>simpleclient_httpserver</artifactId>\n",
    "    <version>0.7.0</version>\n",
    "</dependency>\n",
    "    <dependency>\n",
    "      <groupId>org.apache.tinkerpop</groupId>\n",
    "      <artifactId>tinkergraph-gremlin</artifactId>\n",
    "      <version>3.4.3</version>\n",
    "    </dependency>\n",
    "<dependency>\n",
    "    <groupId>log4j</groupId>\n",
    "    <artifactId>log4j</artifactId>\n",
    "    <version>1.2.17</version>\n",
    "</dependency>\n"
   ]
  },
  {
   "cell_type": "code",
   "execution_count": 1,
   "metadata": {},
   "outputs": [
    {
     "name": "stdout",
     "output_type": "stream",
     "text": [
      "class io.jaegertracing.dsl.gremlin.Keys\n"
     ]
    }
   ],
   "source": [
    "%maven io.jaegertracing:jaeger-tracedsl:1.0-SNAPSHOT\n",
    "\n",
    "System.out.println(io.jaegertracing.dsl.gremlin.Keys.class);"
   ]
  },
  {
   "cell_type": "code",
   "execution_count": 2,
   "metadata": {},
   "outputs": [
    {
     "ename": "EvalException",
     "evalue": "com/fasterxml/jackson/core/type/TypeReference",
     "output_type": "error",
     "traceback": [
      "\u001b[1m\u001b[31m---------------------------------------------------------------------------\u001b[0m",
      "\u001b[1m\u001b[31mjava.lang.NoClassDefFoundError: com/fasterxml/jackson/core/type/TypeReference\u001b[0m",
      "\u001b[1m\u001b[31m\tat io.jaegertracing.dsl.gremlin.ui.JaegerQueryService.load(JaegerQueryService.java:31)\u001b[0m",
      "\u001b[1m\u001b[31m\tat .(#21:1)\u001b[0m"
     ]
    }
   ],
   "source": [
    "import org.apache.tinkerpop.gremlin.structure.Graph;\n",
    "import org.apache.tinkerpop.gremlin.structure.Vertex;\n",
    "import io.jaegertracing.dsl.gremlin.*;\n",
    "import io.jaegertracing.dsl.gremlin.ui.*;\n",
    "import io.jaegertracing.dsl.gremlin.model.*;\n",
    "\n",
    "Trace trace = JaegerQueryService.load(\"54e26ad4bbea6606\", \"http://192.168.122.1:16686/api/traces/\");\n",
    "Graph graph = GraphCreator.create(trace);\n",
    "TraceDepth.calculate(graph);\n"
   ]
  },
  {
   "cell_type": "code",
   "execution_count": null,
   "metadata": {},
   "outputs": [],
   "source": []
  }
 ],
 "metadata": {
  "kernelspec": {
   "display_name": "Java",
   "language": "java",
   "name": "java"
  },
  "language_info": {
   "codemirror_mode": "java",
   "file_extension": ".jshell",
   "mimetype": "text/x-java-source",
   "name": "Java",
   "pygments_lexer": "java",
   "version": "11.0.5+10"
  }
 },
 "nbformat": 4,
 "nbformat_minor": 2
}
